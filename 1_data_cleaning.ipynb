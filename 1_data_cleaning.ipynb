{
  "nbformat": 4,
  "nbformat_minor": 0,
  "metadata": {
    "colab": {
      "provenance": [],
      "mount_file_id": "1mRdKZXCEQUtYPCIS86ApBJ7QrPlLRY-p",
      "authorship_tag": "ABX9TyM/KUh0O/ImB8JsccE6Txp/",
      "include_colab_link": true
    },
    "kernelspec": {
      "name": "python3",
      "display_name": "Python 3"
    },
    "language_info": {
      "name": "python"
    }
  },
  "cells": [
    {
      "cell_type": "markdown",
      "metadata": {
        "id": "view-in-github",
        "colab_type": "text"
      },
      "source": [
        "<a href=\"https://colab.research.google.com/github/sarahgruetz/7DaysofCode-DataScience/blob/main/1_data_cleaning.ipynb\" target=\"_parent\"><img src=\"https://colab.research.google.com/assets/colab-badge.svg\" alt=\"Open In Colab\"/></a>"
      ]
    },
    {
      "cell_type": "markdown",
      "source": [
        "## Data Cleaning\n",
        "\n",
        "**Objetivo**: carregar e limpar os dados dos últimos 4 anos das despesas CEAPS. "
      ],
      "metadata": {
        "id": "zlh619wHLhaG"
      }
    },
    {
      "cell_type": "code",
      "execution_count": 1,
      "metadata": {
        "id": "8i6H6cmdLcsI"
      },
      "outputs": [],
      "source": [
        "import pandas as pd\n",
        "import numpy as np\n",
        "from os import listdir\n",
        "import matplotlib.pyplot as plt"
      ]
    },
    {
      "cell_type": "markdown",
      "source": [
        "Carregando os dados dos últimos 4 anos, de 2019 até 2022."
      ],
      "metadata": {
        "id": "NSa45dw3mdb5"
      }
    },
    {
      "cell_type": "code",
      "source": [
        "dfs = []\n",
        "for year in [2019,2020,2021,2022]:\n",
        "  url = f'https://www.senado.gov.br/transparencia/LAI/verba/despesa_ceaps_{year}.csv'\n",
        "  dfs.append(pd.read_csv(url, sep = ';', header=1, encoding='latin-1'))"
      ],
      "metadata": {
        "id": "2QmIGhHNMFh7"
      },
      "execution_count": 2,
      "outputs": []
    },
    {
      "cell_type": "markdown",
      "source": [
        "Concatenando os dados dos diferentes anos em um mesmo dataframe.\n",
        "\n",
        "`ignore_index`: vai ignorar os indices originais e criar um novo para o dataframe concatenado."
      ],
      "metadata": {
        "id": "7Ca_8HFjmqi6"
      }
    },
    {
      "cell_type": "code",
      "source": [
        "df = pd.concat(dfs, ignore_index=True)\n",
        "print(df.shape)\n",
        "df.head()"
      ],
      "metadata": {
        "colab": {
          "base_uri": "https://localhost:8080/",
          "height": 441
        },
        "id": "9uHMrMkkORPu",
        "outputId": "f51a5a2e-5326-4093-cd5f-e2a334963b5c"
      },
      "execution_count": 3,
      "outputs": [
        {
          "output_type": "stream",
          "name": "stdout",
          "text": [
            "(69231, 11)\n"
          ]
        },
        {
          "output_type": "execute_result",
          "data": {
            "text/plain": [
              "    ANO  MES       SENADOR                                       TIPO_DESPESA  \\\n",
              "0  2019    1  ACIR GURGACZ  Aluguel de imóveis para escritório político, c...   \n",
              "1  2019    1  ACIR GURGACZ  Aluguel de imóveis para escritório político, c...   \n",
              "2  2019    1  ACIR GURGACZ  Aluguel de imóveis para escritório político, c...   \n",
              "3  2019    1  ACIR GURGACZ  Aluguel de imóveis para escritório político, c...   \n",
              "4  2019    2  ACIR GURGACZ  Aluguel de imóveis para escritório político, c...   \n",
              "\n",
              "             CNPJ_CPF                     FORNECEDOR  DOCUMENTO        DATA  \\\n",
              "0  05.914.650/0001-66                       ENERGISA  006582758  04/01/2019   \n",
              "1  05.914.650/0001-66                       ENERGISA  006582755  04/01/2019   \n",
              "2      004.948.028-63  GILBERTO PISELO DO NASCIMENTO      00119  07/01/2019   \n",
              "3  05.423.963/0001-11                  OI MÓVEL S.A.   86161151  25/12/2018   \n",
              "4  05.914.650/0001-66                       ENERGISA  007236036  04/02/2019   \n",
              "\n",
              "                                        DETALHAMENTO VALOR_REEMBOLSADO  \\\n",
              "0  Despesa com pagamento de energia elétrica do e...             66,02   \n",
              "1  Despesa com pagamento de energia elétrica do e...            139,98   \n",
              "2  Despesa com pagamento de aluguel de imóvel par...              6000   \n",
              "3  Despesa com pagamento de telefonia para o escr...            316,39   \n",
              "4  Despesa com pagamento de energia elétrica para...             99,45   \n",
              "\n",
              "   COD_DOCUMENTO  \n",
              "0        2116543  \n",
              "1        2116546  \n",
              "2        2113817  \n",
              "3        2116541  \n",
              "4        2116550  "
            ],
            "text/html": [
              "\n",
              "  <div id=\"df-cfeed9ef-18ab-4179-bf90-e03543e7e24c\">\n",
              "    <div class=\"colab-df-container\">\n",
              "      <div>\n",
              "<style scoped>\n",
              "    .dataframe tbody tr th:only-of-type {\n",
              "        vertical-align: middle;\n",
              "    }\n",
              "\n",
              "    .dataframe tbody tr th {\n",
              "        vertical-align: top;\n",
              "    }\n",
              "\n",
              "    .dataframe thead th {\n",
              "        text-align: right;\n",
              "    }\n",
              "</style>\n",
              "<table border=\"1\" class=\"dataframe\">\n",
              "  <thead>\n",
              "    <tr style=\"text-align: right;\">\n",
              "      <th></th>\n",
              "      <th>ANO</th>\n",
              "      <th>MES</th>\n",
              "      <th>SENADOR</th>\n",
              "      <th>TIPO_DESPESA</th>\n",
              "      <th>CNPJ_CPF</th>\n",
              "      <th>FORNECEDOR</th>\n",
              "      <th>DOCUMENTO</th>\n",
              "      <th>DATA</th>\n",
              "      <th>DETALHAMENTO</th>\n",
              "      <th>VALOR_REEMBOLSADO</th>\n",
              "      <th>COD_DOCUMENTO</th>\n",
              "    </tr>\n",
              "  </thead>\n",
              "  <tbody>\n",
              "    <tr>\n",
              "      <th>0</th>\n",
              "      <td>2019</td>\n",
              "      <td>1</td>\n",
              "      <td>ACIR GURGACZ</td>\n",
              "      <td>Aluguel de imóveis para escritório político, c...</td>\n",
              "      <td>05.914.650/0001-66</td>\n",
              "      <td>ENERGISA</td>\n",
              "      <td>006582758</td>\n",
              "      <td>04/01/2019</td>\n",
              "      <td>Despesa com pagamento de energia elétrica do e...</td>\n",
              "      <td>66,02</td>\n",
              "      <td>2116543</td>\n",
              "    </tr>\n",
              "    <tr>\n",
              "      <th>1</th>\n",
              "      <td>2019</td>\n",
              "      <td>1</td>\n",
              "      <td>ACIR GURGACZ</td>\n",
              "      <td>Aluguel de imóveis para escritório político, c...</td>\n",
              "      <td>05.914.650/0001-66</td>\n",
              "      <td>ENERGISA</td>\n",
              "      <td>006582755</td>\n",
              "      <td>04/01/2019</td>\n",
              "      <td>Despesa com pagamento de energia elétrica do e...</td>\n",
              "      <td>139,98</td>\n",
              "      <td>2116546</td>\n",
              "    </tr>\n",
              "    <tr>\n",
              "      <th>2</th>\n",
              "      <td>2019</td>\n",
              "      <td>1</td>\n",
              "      <td>ACIR GURGACZ</td>\n",
              "      <td>Aluguel de imóveis para escritório político, c...</td>\n",
              "      <td>004.948.028-63</td>\n",
              "      <td>GILBERTO PISELO DO NASCIMENTO</td>\n",
              "      <td>00119</td>\n",
              "      <td>07/01/2019</td>\n",
              "      <td>Despesa com pagamento de aluguel de imóvel par...</td>\n",
              "      <td>6000</td>\n",
              "      <td>2113817</td>\n",
              "    </tr>\n",
              "    <tr>\n",
              "      <th>3</th>\n",
              "      <td>2019</td>\n",
              "      <td>1</td>\n",
              "      <td>ACIR GURGACZ</td>\n",
              "      <td>Aluguel de imóveis para escritório político, c...</td>\n",
              "      <td>05.423.963/0001-11</td>\n",
              "      <td>OI MÓVEL S.A.</td>\n",
              "      <td>86161151</td>\n",
              "      <td>25/12/2018</td>\n",
              "      <td>Despesa com pagamento de telefonia para o escr...</td>\n",
              "      <td>316,39</td>\n",
              "      <td>2116541</td>\n",
              "    </tr>\n",
              "    <tr>\n",
              "      <th>4</th>\n",
              "      <td>2019</td>\n",
              "      <td>2</td>\n",
              "      <td>ACIR GURGACZ</td>\n",
              "      <td>Aluguel de imóveis para escritório político, c...</td>\n",
              "      <td>05.914.650/0001-66</td>\n",
              "      <td>ENERGISA</td>\n",
              "      <td>007236036</td>\n",
              "      <td>04/02/2019</td>\n",
              "      <td>Despesa com pagamento de energia elétrica para...</td>\n",
              "      <td>99,45</td>\n",
              "      <td>2116550</td>\n",
              "    </tr>\n",
              "  </tbody>\n",
              "</table>\n",
              "</div>\n",
              "      <button class=\"colab-df-convert\" onclick=\"convertToInteractive('df-cfeed9ef-18ab-4179-bf90-e03543e7e24c')\"\n",
              "              title=\"Convert this dataframe to an interactive table.\"\n",
              "              style=\"display:none;\">\n",
              "        \n",
              "  <svg xmlns=\"http://www.w3.org/2000/svg\" height=\"24px\"viewBox=\"0 0 24 24\"\n",
              "       width=\"24px\">\n",
              "    <path d=\"M0 0h24v24H0V0z\" fill=\"none\"/>\n",
              "    <path d=\"M18.56 5.44l.94 2.06.94-2.06 2.06-.94-2.06-.94-.94-2.06-.94 2.06-2.06.94zm-11 1L8.5 8.5l.94-2.06 2.06-.94-2.06-.94L8.5 2.5l-.94 2.06-2.06.94zm10 10l.94 2.06.94-2.06 2.06-.94-2.06-.94-.94-2.06-.94 2.06-2.06.94z\"/><path d=\"M17.41 7.96l-1.37-1.37c-.4-.4-.92-.59-1.43-.59-.52 0-1.04.2-1.43.59L10.3 9.45l-7.72 7.72c-.78.78-.78 2.05 0 2.83L4 21.41c.39.39.9.59 1.41.59.51 0 1.02-.2 1.41-.59l7.78-7.78 2.81-2.81c.8-.78.8-2.07 0-2.86zM5.41 20L4 18.59l7.72-7.72 1.47 1.35L5.41 20z\"/>\n",
              "  </svg>\n",
              "      </button>\n",
              "      \n",
              "  <style>\n",
              "    .colab-df-container {\n",
              "      display:flex;\n",
              "      flex-wrap:wrap;\n",
              "      gap: 12px;\n",
              "    }\n",
              "\n",
              "    .colab-df-convert {\n",
              "      background-color: #E8F0FE;\n",
              "      border: none;\n",
              "      border-radius: 50%;\n",
              "      cursor: pointer;\n",
              "      display: none;\n",
              "      fill: #1967D2;\n",
              "      height: 32px;\n",
              "      padding: 0 0 0 0;\n",
              "      width: 32px;\n",
              "    }\n",
              "\n",
              "    .colab-df-convert:hover {\n",
              "      background-color: #E2EBFA;\n",
              "      box-shadow: 0px 1px 2px rgba(60, 64, 67, 0.3), 0px 1px 3px 1px rgba(60, 64, 67, 0.15);\n",
              "      fill: #174EA6;\n",
              "    }\n",
              "\n",
              "    [theme=dark] .colab-df-convert {\n",
              "      background-color: #3B4455;\n",
              "      fill: #D2E3FC;\n",
              "    }\n",
              "\n",
              "    [theme=dark] .colab-df-convert:hover {\n",
              "      background-color: #434B5C;\n",
              "      box-shadow: 0px 1px 3px 1px rgba(0, 0, 0, 0.15);\n",
              "      filter: drop-shadow(0px 1px 2px rgba(0, 0, 0, 0.3));\n",
              "      fill: #FFFFFF;\n",
              "    }\n",
              "  </style>\n",
              "\n",
              "      <script>\n",
              "        const buttonEl =\n",
              "          document.querySelector('#df-cfeed9ef-18ab-4179-bf90-e03543e7e24c button.colab-df-convert');\n",
              "        buttonEl.style.display =\n",
              "          google.colab.kernel.accessAllowed ? 'block' : 'none';\n",
              "\n",
              "        async function convertToInteractive(key) {\n",
              "          const element = document.querySelector('#df-cfeed9ef-18ab-4179-bf90-e03543e7e24c');\n",
              "          const dataTable =\n",
              "            await google.colab.kernel.invokeFunction('convertToInteractive',\n",
              "                                                     [key], {});\n",
              "          if (!dataTable) return;\n",
              "\n",
              "          const docLinkHtml = 'Like what you see? Visit the ' +\n",
              "            '<a target=\"_blank\" href=https://colab.research.google.com/notebooks/data_table.ipynb>data table notebook</a>'\n",
              "            + ' to learn more about interactive tables.';\n",
              "          element.innerHTML = '';\n",
              "          dataTable['output_type'] = 'display_data';\n",
              "          await google.colab.output.renderOutput(dataTable, element);\n",
              "          const docLink = document.createElement('div');\n",
              "          docLink.innerHTML = docLinkHtml;\n",
              "          element.appendChild(docLink);\n",
              "        }\n",
              "      </script>\n",
              "    </div>\n",
              "  </div>\n",
              "  "
            ]
          },
          "metadata": {},
          "execution_count": 3
        }
      ]
    },
    {
      "cell_type": "markdown",
      "source": [
        "Checando se existem registros duplicados."
      ],
      "metadata": {
        "id": "F-u4xojInBzT"
      }
    },
    {
      "cell_type": "code",
      "source": [
        "df.duplicated().sum()"
      ],
      "metadata": {
        "colab": {
          "base_uri": "https://localhost:8080/"
        },
        "id": "yuAoqKTlNp7l",
        "outputId": "7bfc3924-7989-424f-e25d-e83162cd5826"
      },
      "execution_count": 4,
      "outputs": [
        {
          "output_type": "execute_result",
          "data": {
            "text/plain": [
              "0"
            ]
          },
          "metadata": {},
          "execution_count": 4
        }
      ]
    },
    {
      "cell_type": "markdown",
      "source": [
        "Checando se existem valores faltantes nas colunas."
      ],
      "metadata": {
        "id": "14aidE3EnH62"
      }
    },
    {
      "cell_type": "code",
      "source": [
        "df.isna().sum()"
      ],
      "metadata": {
        "colab": {
          "base_uri": "https://localhost:8080/"
        },
        "id": "xc8xvSfyOJ31",
        "outputId": "3b2d804e-2bb7-4d1f-bdae-c55823b291a9"
      },
      "execution_count": 5,
      "outputs": [
        {
          "output_type": "execute_result",
          "data": {
            "text/plain": [
              "ANO                      0\n",
              "MES                      0\n",
              "SENADOR                  0\n",
              "TIPO_DESPESA             0\n",
              "CNPJ_CPF                 0\n",
              "FORNECEDOR               0\n",
              "DOCUMENTO             2962\n",
              "DATA                     0\n",
              "DETALHAMENTO         30687\n",
              "VALOR_REEMBOLSADO        0\n",
              "COD_DOCUMENTO            0\n",
              "dtype: int64"
            ]
          },
          "metadata": {},
          "execution_count": 5
        }
      ]
    },
    {
      "cell_type": "markdown",
      "source": [
        "Apenas as colunas `DOCUMENTO` e `DETALHAMENTO` possuem dados faltantes.\n",
        "\n",
        "Informações sobre o documento e uma descrição mais detalhada dos gastos não serão úteis para a análise.\n",
        "\n",
        "Vamos remover ambas as colunas e a coluna `COD_DOCUMENTO`"
      ],
      "metadata": {
        "id": "svO2u5kknQTk"
      }
    },
    {
      "cell_type": "code",
      "source": [
        "df.drop(columns=['DOCUMENTO','DETALHAMENTO','COD_DOCUMENTO'],inplace=True)"
      ],
      "metadata": {
        "id": "RsRDwCN3PvDn"
      },
      "execution_count": 6,
      "outputs": []
    },
    {
      "cell_type": "code",
      "source": [
        "df.head()"
      ],
      "metadata": {
        "colab": {
          "base_uri": "https://localhost:8080/",
          "height": 206
        },
        "id": "v7xIhs2BP2gY",
        "outputId": "8009e8d8-ed64-4dd9-ecc7-336adb8a391c"
      },
      "execution_count": 7,
      "outputs": [
        {
          "output_type": "execute_result",
          "data": {
            "text/plain": [
              "    ANO  MES       SENADOR                                       TIPO_DESPESA  \\\n",
              "0  2019    1  ACIR GURGACZ  Aluguel de imóveis para escritório político, c...   \n",
              "1  2019    1  ACIR GURGACZ  Aluguel de imóveis para escritório político, c...   \n",
              "2  2019    1  ACIR GURGACZ  Aluguel de imóveis para escritório político, c...   \n",
              "3  2019    1  ACIR GURGACZ  Aluguel de imóveis para escritório político, c...   \n",
              "4  2019    2  ACIR GURGACZ  Aluguel de imóveis para escritório político, c...   \n",
              "\n",
              "             CNPJ_CPF                     FORNECEDOR        DATA  \\\n",
              "0  05.914.650/0001-66                       ENERGISA  04/01/2019   \n",
              "1  05.914.650/0001-66                       ENERGISA  04/01/2019   \n",
              "2      004.948.028-63  GILBERTO PISELO DO NASCIMENTO  07/01/2019   \n",
              "3  05.423.963/0001-11                  OI MÓVEL S.A.  25/12/2018   \n",
              "4  05.914.650/0001-66                       ENERGISA  04/02/2019   \n",
              "\n",
              "  VALOR_REEMBOLSADO  \n",
              "0             66,02  \n",
              "1            139,98  \n",
              "2              6000  \n",
              "3            316,39  \n",
              "4             99,45  "
            ],
            "text/html": [
              "\n",
              "  <div id=\"df-926005d0-c17a-40aa-9f82-0e01ce97e587\">\n",
              "    <div class=\"colab-df-container\">\n",
              "      <div>\n",
              "<style scoped>\n",
              "    .dataframe tbody tr th:only-of-type {\n",
              "        vertical-align: middle;\n",
              "    }\n",
              "\n",
              "    .dataframe tbody tr th {\n",
              "        vertical-align: top;\n",
              "    }\n",
              "\n",
              "    .dataframe thead th {\n",
              "        text-align: right;\n",
              "    }\n",
              "</style>\n",
              "<table border=\"1\" class=\"dataframe\">\n",
              "  <thead>\n",
              "    <tr style=\"text-align: right;\">\n",
              "      <th></th>\n",
              "      <th>ANO</th>\n",
              "      <th>MES</th>\n",
              "      <th>SENADOR</th>\n",
              "      <th>TIPO_DESPESA</th>\n",
              "      <th>CNPJ_CPF</th>\n",
              "      <th>FORNECEDOR</th>\n",
              "      <th>DATA</th>\n",
              "      <th>VALOR_REEMBOLSADO</th>\n",
              "    </tr>\n",
              "  </thead>\n",
              "  <tbody>\n",
              "    <tr>\n",
              "      <th>0</th>\n",
              "      <td>2019</td>\n",
              "      <td>1</td>\n",
              "      <td>ACIR GURGACZ</td>\n",
              "      <td>Aluguel de imóveis para escritório político, c...</td>\n",
              "      <td>05.914.650/0001-66</td>\n",
              "      <td>ENERGISA</td>\n",
              "      <td>04/01/2019</td>\n",
              "      <td>66,02</td>\n",
              "    </tr>\n",
              "    <tr>\n",
              "      <th>1</th>\n",
              "      <td>2019</td>\n",
              "      <td>1</td>\n",
              "      <td>ACIR GURGACZ</td>\n",
              "      <td>Aluguel de imóveis para escritório político, c...</td>\n",
              "      <td>05.914.650/0001-66</td>\n",
              "      <td>ENERGISA</td>\n",
              "      <td>04/01/2019</td>\n",
              "      <td>139,98</td>\n",
              "    </tr>\n",
              "    <tr>\n",
              "      <th>2</th>\n",
              "      <td>2019</td>\n",
              "      <td>1</td>\n",
              "      <td>ACIR GURGACZ</td>\n",
              "      <td>Aluguel de imóveis para escritório político, c...</td>\n",
              "      <td>004.948.028-63</td>\n",
              "      <td>GILBERTO PISELO DO NASCIMENTO</td>\n",
              "      <td>07/01/2019</td>\n",
              "      <td>6000</td>\n",
              "    </tr>\n",
              "    <tr>\n",
              "      <th>3</th>\n",
              "      <td>2019</td>\n",
              "      <td>1</td>\n",
              "      <td>ACIR GURGACZ</td>\n",
              "      <td>Aluguel de imóveis para escritório político, c...</td>\n",
              "      <td>05.423.963/0001-11</td>\n",
              "      <td>OI MÓVEL S.A.</td>\n",
              "      <td>25/12/2018</td>\n",
              "      <td>316,39</td>\n",
              "    </tr>\n",
              "    <tr>\n",
              "      <th>4</th>\n",
              "      <td>2019</td>\n",
              "      <td>2</td>\n",
              "      <td>ACIR GURGACZ</td>\n",
              "      <td>Aluguel de imóveis para escritório político, c...</td>\n",
              "      <td>05.914.650/0001-66</td>\n",
              "      <td>ENERGISA</td>\n",
              "      <td>04/02/2019</td>\n",
              "      <td>99,45</td>\n",
              "    </tr>\n",
              "  </tbody>\n",
              "</table>\n",
              "</div>\n",
              "      <button class=\"colab-df-convert\" onclick=\"convertToInteractive('df-926005d0-c17a-40aa-9f82-0e01ce97e587')\"\n",
              "              title=\"Convert this dataframe to an interactive table.\"\n",
              "              style=\"display:none;\">\n",
              "        \n",
              "  <svg xmlns=\"http://www.w3.org/2000/svg\" height=\"24px\"viewBox=\"0 0 24 24\"\n",
              "       width=\"24px\">\n",
              "    <path d=\"M0 0h24v24H0V0z\" fill=\"none\"/>\n",
              "    <path d=\"M18.56 5.44l.94 2.06.94-2.06 2.06-.94-2.06-.94-.94-2.06-.94 2.06-2.06.94zm-11 1L8.5 8.5l.94-2.06 2.06-.94-2.06-.94L8.5 2.5l-.94 2.06-2.06.94zm10 10l.94 2.06.94-2.06 2.06-.94-2.06-.94-.94-2.06-.94 2.06-2.06.94z\"/><path d=\"M17.41 7.96l-1.37-1.37c-.4-.4-.92-.59-1.43-.59-.52 0-1.04.2-1.43.59L10.3 9.45l-7.72 7.72c-.78.78-.78 2.05 0 2.83L4 21.41c.39.39.9.59 1.41.59.51 0 1.02-.2 1.41-.59l7.78-7.78 2.81-2.81c.8-.78.8-2.07 0-2.86zM5.41 20L4 18.59l7.72-7.72 1.47 1.35L5.41 20z\"/>\n",
              "  </svg>\n",
              "      </button>\n",
              "      \n",
              "  <style>\n",
              "    .colab-df-container {\n",
              "      display:flex;\n",
              "      flex-wrap:wrap;\n",
              "      gap: 12px;\n",
              "    }\n",
              "\n",
              "    .colab-df-convert {\n",
              "      background-color: #E8F0FE;\n",
              "      border: none;\n",
              "      border-radius: 50%;\n",
              "      cursor: pointer;\n",
              "      display: none;\n",
              "      fill: #1967D2;\n",
              "      height: 32px;\n",
              "      padding: 0 0 0 0;\n",
              "      width: 32px;\n",
              "    }\n",
              "\n",
              "    .colab-df-convert:hover {\n",
              "      background-color: #E2EBFA;\n",
              "      box-shadow: 0px 1px 2px rgba(60, 64, 67, 0.3), 0px 1px 3px 1px rgba(60, 64, 67, 0.15);\n",
              "      fill: #174EA6;\n",
              "    }\n",
              "\n",
              "    [theme=dark] .colab-df-convert {\n",
              "      background-color: #3B4455;\n",
              "      fill: #D2E3FC;\n",
              "    }\n",
              "\n",
              "    [theme=dark] .colab-df-convert:hover {\n",
              "      background-color: #434B5C;\n",
              "      box-shadow: 0px 1px 3px 1px rgba(0, 0, 0, 0.15);\n",
              "      filter: drop-shadow(0px 1px 2px rgba(0, 0, 0, 0.3));\n",
              "      fill: #FFFFFF;\n",
              "    }\n",
              "  </style>\n",
              "\n",
              "      <script>\n",
              "        const buttonEl =\n",
              "          document.querySelector('#df-926005d0-c17a-40aa-9f82-0e01ce97e587 button.colab-df-convert');\n",
              "        buttonEl.style.display =\n",
              "          google.colab.kernel.accessAllowed ? 'block' : 'none';\n",
              "\n",
              "        async function convertToInteractive(key) {\n",
              "          const element = document.querySelector('#df-926005d0-c17a-40aa-9f82-0e01ce97e587');\n",
              "          const dataTable =\n",
              "            await google.colab.kernel.invokeFunction('convertToInteractive',\n",
              "                                                     [key], {});\n",
              "          if (!dataTable) return;\n",
              "\n",
              "          const docLinkHtml = 'Like what you see? Visit the ' +\n",
              "            '<a target=\"_blank\" href=https://colab.research.google.com/notebooks/data_table.ipynb>data table notebook</a>'\n",
              "            + ' to learn more about interactive tables.';\n",
              "          element.innerHTML = '';\n",
              "          dataTable['output_type'] = 'display_data';\n",
              "          await google.colab.output.renderOutput(dataTable, element);\n",
              "          const docLink = document.createElement('div');\n",
              "          docLink.innerHTML = docLinkHtml;\n",
              "          element.appendChild(docLink);\n",
              "        }\n",
              "      </script>\n",
              "    </div>\n",
              "  </div>\n",
              "  "
            ]
          },
          "metadata": {},
          "execution_count": 7
        }
      ]
    },
    {
      "cell_type": "markdown",
      "source": [
        "Analisando o tipo das colunas."
      ],
      "metadata": {
        "id": "A4A2Qmianzda"
      }
    },
    {
      "cell_type": "code",
      "source": [
        "df.dtypes"
      ],
      "metadata": {
        "colab": {
          "base_uri": "https://localhost:8080/"
        },
        "id": "xKtfyNzoYRdr",
        "outputId": "301ebd9b-2423-45de-d0b3-fee54bd074c1"
      },
      "execution_count": 8,
      "outputs": [
        {
          "output_type": "execute_result",
          "data": {
            "text/plain": [
              "ANO                   int64\n",
              "MES                   int64\n",
              "SENADOR              object\n",
              "TIPO_DESPESA         object\n",
              "CNPJ_CPF             object\n",
              "FORNECEDOR           object\n",
              "DATA                 object\n",
              "VALOR_REEMBOLSADO    object\n",
              "dtype: object"
            ]
          },
          "metadata": {},
          "execution_count": 8
        }
      ]
    },
    {
      "cell_type": "markdown",
      "source": [
        "O tipo de algumas colunas precisa ser corrigido.\n",
        "\n",
        "As colunas `ANO` e `MES` deveriam ser do tipo `str` já que representam categorias e não necessáriamente valores numéricos que serão manipulados."
      ],
      "metadata": {
        "id": "pqgU1XSpn5ro"
      }
    },
    {
      "cell_type": "code",
      "source": [
        "df['ANO'] = df['ANO'].astype('str')\n",
        "df['MES'] = df['MES'].astype('str')"
      ],
      "metadata": {
        "id": "1c2ZsNn8bREo"
      },
      "execution_count": 9,
      "outputs": []
    },
    {
      "cell_type": "markdown",
      "source": [
        "A coluna `DATA` precisa ser convertida para o tipo `datetime`."
      ],
      "metadata": {
        "id": "t1zdQv6HqEsV"
      }
    },
    {
      "cell_type": "code",
      "source": [
        "df['DATA'] = pd.to_datetime(df['DATA'], dayfirst=True, utc=False, errors='coerce')"
      ],
      "metadata": {
        "id": "NhgKsE9AQgiB"
      },
      "execution_count": 10,
      "outputs": []
    },
    {
      "cell_type": "markdown",
      "source": [
        "Não foi possível converter 3 registros da coluna `DATA` para `datetime`. "
      ],
      "metadata": {
        "id": "scon0hx8prYX"
      }
    },
    {
      "cell_type": "code",
      "source": [
        "df.isna().sum()"
      ],
      "metadata": {
        "colab": {
          "base_uri": "https://localhost:8080/"
        },
        "id": "a54r2USYSTKp",
        "outputId": "c7fdb97d-7f6f-42e3-857b-e35adf3a0685"
      },
      "execution_count": 11,
      "outputs": [
        {
          "output_type": "execute_result",
          "data": {
            "text/plain": [
              "ANO                  0\n",
              "MES                  0\n",
              "SENADOR              0\n",
              "TIPO_DESPESA         0\n",
              "CNPJ_CPF             0\n",
              "FORNECEDOR           0\n",
              "DATA                 3\n",
              "VALOR_REEMBOLSADO    0\n",
              "dtype: int64"
            ]
          },
          "metadata": {},
          "execution_count": 11
        }
      ]
    },
    {
      "cell_type": "markdown",
      "source": [
        "Removendo esses registros."
      ],
      "metadata": {
        "id": "0U4wy-o8p7T2"
      }
    },
    {
      "cell_type": "code",
      "source": [
        "df.dropna(inplace=True)"
      ],
      "metadata": {
        "id": "YEwFftOkSWDA"
      },
      "execution_count": 12,
      "outputs": []
    },
    {
      "cell_type": "markdown",
      "source": [
        "\n",
        "A coluna `VALOR_REEMBOLSADO` precisa ser convertida para o tipo `float`.\n",
        "\n",
        "Primeiro é preciso substituir a `,` pelo `.` como separador decimal."
      ],
      "metadata": {
        "id": "48rLGnriqHX_"
      }
    },
    {
      "cell_type": "code",
      "source": [
        "df['VALOR_REEMBOLSADO'].replace(',', '.', regex=True, inplace=True)"
      ],
      "metadata": {
        "id": "4qBg4pT1Si6b"
      },
      "execution_count": 13,
      "outputs": []
    },
    {
      "cell_type": "code",
      "source": [
        "df['VALOR_REEMBOLSADO'] = df['VALOR_REEMBOLSADO'].astype('float')"
      ],
      "metadata": {
        "id": "iWgIpaH2Q2hy"
      },
      "execution_count": 14,
      "outputs": []
    },
    {
      "cell_type": "code",
      "source": [
        "df.dtypes"
      ],
      "metadata": {
        "colab": {
          "base_uri": "https://localhost:8080/"
        },
        "id": "8mSoRM1EYZSL",
        "outputId": "c1c4e064-7984-4529-cfe6-57bee3c5a62e"
      },
      "execution_count": 15,
      "outputs": [
        {
          "output_type": "execute_result",
          "data": {
            "text/plain": [
              "ANO                          object\n",
              "MES                          object\n",
              "SENADOR                      object\n",
              "TIPO_DESPESA                 object\n",
              "CNPJ_CPF                     object\n",
              "FORNECEDOR                   object\n",
              "DATA                 datetime64[ns]\n",
              "VALOR_REEMBOLSADO           float64\n",
              "dtype: object"
            ]
          },
          "metadata": {},
          "execution_count": 15
        }
      ]
    },
    {
      "cell_type": "code",
      "source": [
        "df.head()"
      ],
      "metadata": {
        "colab": {
          "base_uri": "https://localhost:8080/",
          "height": 206
        },
        "id": "9ribQRg0RIhT",
        "outputId": "2a2b2b25-2587-4794-ee56-bad3ca7f626f"
      },
      "execution_count": 16,
      "outputs": [
        {
          "output_type": "execute_result",
          "data": {
            "text/plain": [
              "    ANO MES       SENADOR                                       TIPO_DESPESA  \\\n",
              "0  2019   1  ACIR GURGACZ  Aluguel de imóveis para escritório político, c...   \n",
              "1  2019   1  ACIR GURGACZ  Aluguel de imóveis para escritório político, c...   \n",
              "2  2019   1  ACIR GURGACZ  Aluguel de imóveis para escritório político, c...   \n",
              "3  2019   1  ACIR GURGACZ  Aluguel de imóveis para escritório político, c...   \n",
              "4  2019   2  ACIR GURGACZ  Aluguel de imóveis para escritório político, c...   \n",
              "\n",
              "             CNPJ_CPF                     FORNECEDOR       DATA  \\\n",
              "0  05.914.650/0001-66                       ENERGISA 2019-01-04   \n",
              "1  05.914.650/0001-66                       ENERGISA 2019-01-04   \n",
              "2      004.948.028-63  GILBERTO PISELO DO NASCIMENTO 2019-01-07   \n",
              "3  05.423.963/0001-11                  OI MÓVEL S.A. 2018-12-25   \n",
              "4  05.914.650/0001-66                       ENERGISA 2019-02-04   \n",
              "\n",
              "   VALOR_REEMBOLSADO  \n",
              "0              66.02  \n",
              "1             139.98  \n",
              "2            6000.00  \n",
              "3             316.39  \n",
              "4              99.45  "
            ],
            "text/html": [
              "\n",
              "  <div id=\"df-a05ce83c-6a0a-4e5b-b149-061ab8a0f560\">\n",
              "    <div class=\"colab-df-container\">\n",
              "      <div>\n",
              "<style scoped>\n",
              "    .dataframe tbody tr th:only-of-type {\n",
              "        vertical-align: middle;\n",
              "    }\n",
              "\n",
              "    .dataframe tbody tr th {\n",
              "        vertical-align: top;\n",
              "    }\n",
              "\n",
              "    .dataframe thead th {\n",
              "        text-align: right;\n",
              "    }\n",
              "</style>\n",
              "<table border=\"1\" class=\"dataframe\">\n",
              "  <thead>\n",
              "    <tr style=\"text-align: right;\">\n",
              "      <th></th>\n",
              "      <th>ANO</th>\n",
              "      <th>MES</th>\n",
              "      <th>SENADOR</th>\n",
              "      <th>TIPO_DESPESA</th>\n",
              "      <th>CNPJ_CPF</th>\n",
              "      <th>FORNECEDOR</th>\n",
              "      <th>DATA</th>\n",
              "      <th>VALOR_REEMBOLSADO</th>\n",
              "    </tr>\n",
              "  </thead>\n",
              "  <tbody>\n",
              "    <tr>\n",
              "      <th>0</th>\n",
              "      <td>2019</td>\n",
              "      <td>1</td>\n",
              "      <td>ACIR GURGACZ</td>\n",
              "      <td>Aluguel de imóveis para escritório político, c...</td>\n",
              "      <td>05.914.650/0001-66</td>\n",
              "      <td>ENERGISA</td>\n",
              "      <td>2019-01-04</td>\n",
              "      <td>66.02</td>\n",
              "    </tr>\n",
              "    <tr>\n",
              "      <th>1</th>\n",
              "      <td>2019</td>\n",
              "      <td>1</td>\n",
              "      <td>ACIR GURGACZ</td>\n",
              "      <td>Aluguel de imóveis para escritório político, c...</td>\n",
              "      <td>05.914.650/0001-66</td>\n",
              "      <td>ENERGISA</td>\n",
              "      <td>2019-01-04</td>\n",
              "      <td>139.98</td>\n",
              "    </tr>\n",
              "    <tr>\n",
              "      <th>2</th>\n",
              "      <td>2019</td>\n",
              "      <td>1</td>\n",
              "      <td>ACIR GURGACZ</td>\n",
              "      <td>Aluguel de imóveis para escritório político, c...</td>\n",
              "      <td>004.948.028-63</td>\n",
              "      <td>GILBERTO PISELO DO NASCIMENTO</td>\n",
              "      <td>2019-01-07</td>\n",
              "      <td>6000.00</td>\n",
              "    </tr>\n",
              "    <tr>\n",
              "      <th>3</th>\n",
              "      <td>2019</td>\n",
              "      <td>1</td>\n",
              "      <td>ACIR GURGACZ</td>\n",
              "      <td>Aluguel de imóveis para escritório político, c...</td>\n",
              "      <td>05.423.963/0001-11</td>\n",
              "      <td>OI MÓVEL S.A.</td>\n",
              "      <td>2018-12-25</td>\n",
              "      <td>316.39</td>\n",
              "    </tr>\n",
              "    <tr>\n",
              "      <th>4</th>\n",
              "      <td>2019</td>\n",
              "      <td>2</td>\n",
              "      <td>ACIR GURGACZ</td>\n",
              "      <td>Aluguel de imóveis para escritório político, c...</td>\n",
              "      <td>05.914.650/0001-66</td>\n",
              "      <td>ENERGISA</td>\n",
              "      <td>2019-02-04</td>\n",
              "      <td>99.45</td>\n",
              "    </tr>\n",
              "  </tbody>\n",
              "</table>\n",
              "</div>\n",
              "      <button class=\"colab-df-convert\" onclick=\"convertToInteractive('df-a05ce83c-6a0a-4e5b-b149-061ab8a0f560')\"\n",
              "              title=\"Convert this dataframe to an interactive table.\"\n",
              "              style=\"display:none;\">\n",
              "        \n",
              "  <svg xmlns=\"http://www.w3.org/2000/svg\" height=\"24px\"viewBox=\"0 0 24 24\"\n",
              "       width=\"24px\">\n",
              "    <path d=\"M0 0h24v24H0V0z\" fill=\"none\"/>\n",
              "    <path d=\"M18.56 5.44l.94 2.06.94-2.06 2.06-.94-2.06-.94-.94-2.06-.94 2.06-2.06.94zm-11 1L8.5 8.5l.94-2.06 2.06-.94-2.06-.94L8.5 2.5l-.94 2.06-2.06.94zm10 10l.94 2.06.94-2.06 2.06-.94-2.06-.94-.94-2.06-.94 2.06-2.06.94z\"/><path d=\"M17.41 7.96l-1.37-1.37c-.4-.4-.92-.59-1.43-.59-.52 0-1.04.2-1.43.59L10.3 9.45l-7.72 7.72c-.78.78-.78 2.05 0 2.83L4 21.41c.39.39.9.59 1.41.59.51 0 1.02-.2 1.41-.59l7.78-7.78 2.81-2.81c.8-.78.8-2.07 0-2.86zM5.41 20L4 18.59l7.72-7.72 1.47 1.35L5.41 20z\"/>\n",
              "  </svg>\n",
              "      </button>\n",
              "      \n",
              "  <style>\n",
              "    .colab-df-container {\n",
              "      display:flex;\n",
              "      flex-wrap:wrap;\n",
              "      gap: 12px;\n",
              "    }\n",
              "\n",
              "    .colab-df-convert {\n",
              "      background-color: #E8F0FE;\n",
              "      border: none;\n",
              "      border-radius: 50%;\n",
              "      cursor: pointer;\n",
              "      display: none;\n",
              "      fill: #1967D2;\n",
              "      height: 32px;\n",
              "      padding: 0 0 0 0;\n",
              "      width: 32px;\n",
              "    }\n",
              "\n",
              "    .colab-df-convert:hover {\n",
              "      background-color: #E2EBFA;\n",
              "      box-shadow: 0px 1px 2px rgba(60, 64, 67, 0.3), 0px 1px 3px 1px rgba(60, 64, 67, 0.15);\n",
              "      fill: #174EA6;\n",
              "    }\n",
              "\n",
              "    [theme=dark] .colab-df-convert {\n",
              "      background-color: #3B4455;\n",
              "      fill: #D2E3FC;\n",
              "    }\n",
              "\n",
              "    [theme=dark] .colab-df-convert:hover {\n",
              "      background-color: #434B5C;\n",
              "      box-shadow: 0px 1px 3px 1px rgba(0, 0, 0, 0.15);\n",
              "      filter: drop-shadow(0px 1px 2px rgba(0, 0, 0, 0.3));\n",
              "      fill: #FFFFFF;\n",
              "    }\n",
              "  </style>\n",
              "\n",
              "      <script>\n",
              "        const buttonEl =\n",
              "          document.querySelector('#df-a05ce83c-6a0a-4e5b-b149-061ab8a0f560 button.colab-df-convert');\n",
              "        buttonEl.style.display =\n",
              "          google.colab.kernel.accessAllowed ? 'block' : 'none';\n",
              "\n",
              "        async function convertToInteractive(key) {\n",
              "          const element = document.querySelector('#df-a05ce83c-6a0a-4e5b-b149-061ab8a0f560');\n",
              "          const dataTable =\n",
              "            await google.colab.kernel.invokeFunction('convertToInteractive',\n",
              "                                                     [key], {});\n",
              "          if (!dataTable) return;\n",
              "\n",
              "          const docLinkHtml = 'Like what you see? Visit the ' +\n",
              "            '<a target=\"_blank\" href=https://colab.research.google.com/notebooks/data_table.ipynb>data table notebook</a>'\n",
              "            + ' to learn more about interactive tables.';\n",
              "          element.innerHTML = '';\n",
              "          dataTable['output_type'] = 'display_data';\n",
              "          await google.colab.output.renderOutput(dataTable, element);\n",
              "          const docLink = document.createElement('div');\n",
              "          docLink.innerHTML = docLinkHtml;\n",
              "          element.appendChild(docLink);\n",
              "        }\n",
              "      </script>\n",
              "    </div>\n",
              "  </div>\n",
              "  "
            ]
          },
          "metadata": {},
          "execution_count": 16
        }
      ]
    },
    {
      "cell_type": "markdown",
      "source": [
        "Checando a existência de outliers no `VALOR_REEMBOLSADO`"
      ],
      "metadata": {
        "id": "6Vtp4PFjqK4P"
      }
    },
    {
      "cell_type": "code",
      "source": [
        "df['VALOR_REEMBOLSADO'].describe([0.01, 0.25, 0.5, 0.75, 0.99])"
      ],
      "metadata": {
        "colab": {
          "base_uri": "https://localhost:8080/"
        },
        "id": "A36Vb7F_bbgq",
        "outputId": "1c0763bc-ab3e-41cd-bb91-479fd59a9366"
      },
      "execution_count": 17,
      "outputs": [
        {
          "output_type": "execute_result",
          "data": {
            "text/plain": [
              "count     69228.000000\n",
              "mean       1413.012615\n",
              "std        3099.695562\n",
              "min           0.010000\n",
              "1%           11.000000\n",
              "25%         157.900000\n",
              "50%         425.230000\n",
              "75%        1570.390000\n",
              "99%       14373.000000\n",
              "max      120000.000000\n",
              "Name: VALOR_REEMBOLSADO, dtype: float64"
            ]
          },
          "metadata": {},
          "execution_count": 17
        }
      ]
    },
    {
      "cell_type": "code",
      "source": [
        "plt.figure(figsize=(20,8))\n",
        "plt.hist(df['VALOR_REEMBOLSADO'],bins=100)\n",
        "plt.show()"
      ],
      "metadata": {
        "colab": {
          "base_uri": "https://localhost:8080/",
          "height": 353
        },
        "id": "rsQkXCSZckYF",
        "outputId": "fff70a93-d372-4738-c918-a4c2c5ce453d"
      },
      "execution_count": null,
      "outputs": [
        {
          "output_type": "display_data",
          "data": {
            "text/plain": [
              "<Figure size 1440x576 with 1 Axes>"
            ],
            "image/png": "[encoded data removed]"
          },
          "metadata": {
            "needs_background": "light"
          }
        }
      ]
    },
    {
      "cell_type": "markdown",
      "source": [
        "Os dados de `VALOR_REEMBOLSADO` possuem uma assimetria positiva com valores bastante acima da média.\n",
        "\n",
        "Por enquanto nenhum valor será removido."
      ],
      "metadata": {
        "id": "oRQoXfW42_TJ"
      }
    },
    {
      "cell_type": "markdown",
      "source": [
        "Salvando os dados limpos em um arquivo."
      ],
      "metadata": {
        "id": "NDdyxdmG4Dnd"
      }
    },
    {
      "cell_type": "code",
      "source": [
        "df.to_csv('/content/drive/MyDrive/CEAPS/dados_limpos.csv')"
      ],
      "metadata": {
        "id": "zkzbonXFaZhG"
      },
      "execution_count": 18,
      "outputs": []
    }
  ]
}